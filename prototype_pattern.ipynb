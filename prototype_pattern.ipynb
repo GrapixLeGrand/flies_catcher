{
 "cells": [
  {
   "cell_type": "code",
   "execution_count": 3,
   "metadata": {},
   "outputs": [],
   "source": [
    "import cv2 as cv\n",
    "import numpy as np\n",
    "from matplotlib import pyplot as plt"
   ]
  },
  {
   "cell_type": "code",
   "execution_count": 25,
   "metadata": {},
   "outputs": [
    {
     "name": "stdout",
     "output_type": "stream",
     "text": [
      "(360, 165)\n",
      "(51, 33)\n"
     ]
    }
   ],
   "source": [
    "\n",
    "target = 'flies2.jpg'\n",
    "patterns = ['fly.jpg', 'fly1.png', 'fly2.png', 'fly3.png', 'fly4.png']\n",
    "patterns = ['pattern/' + p for p in patterns]\n",
    "\n",
    "target_img = cv.imread(target, 0)\n",
    "target_img_colored = cv.imread(target)\n",
    "\n",
    "target_dim = (target_img.shape[1], target_img.shape[0])\n",
    "fly_dim_pixel = (target_dim[0] // 7, target_dim[1] // 5)\n",
    "\n",
    "print(target_dim)\n",
    "print(fly_dim_pixel)\n",
    "\n",
    "patterns_imgs = [ cv.imread(p,0) for p in patterns]\n",
    "\n",
    "\"\"\"resize the images so that they are in the target\"\"\"\n",
    "def resize_for_target(img, target_dim):\n",
    "    return cv.resize(img, target_dim, interpolation = cv.INTER_AREA)\n",
    "\n",
    "def resize_with_factor(img, factor):\n",
    "    dim = (img.shape[1], img.shape[0])\n",
    "    dim = (int(dim[0] * factor), int(dim[1] * factor))\n",
    "    return cv.resize(img, dim, interpolation = cv.INTER_AREA)\n",
    "\n",
    "patterns_imgs = [resize_for_target(p, fly_dim_pixel) for p in patterns_imgs]\n",
    "    \n",
    "\"\"\"Find the pattern in the target and returns the top-left and bottom right corners if found\"\"\"\n",
    "def find_box_with_pattern(target_img, pattern_img):\n",
    "    pattern_img_cpy = pattern_img.copy()\n",
    "    methods = ['cv.TM_CCOEFF', 'cv.TM_CCOEFF_NORMED', 'cv.TM_CCORR',\n",
    "            'cv.TM_CCORR_NORMED', 'cv.TM_SQDIFF', 'cv.TM_SQDIFF_NORMED']\n",
    "    meth = methods[0]\n",
    "    w, h = pattern_img.shape[::-1]\n",
    "    \n",
    "    method = eval(meth)\n",
    "    current_target = target_img.copy()\n",
    "    result = cv.matchTemplate(current_target, pattern_img_cpy, method)\n",
    "    min_val, max_val, min_loc, max_loc = cv.minMaxLoc(result)\n",
    "        \n",
    "    if method in [cv.TM_SQDIFF, cv.TM_SQDIFF_NORMED]:\n",
    "        top_left = min_loc\n",
    "    else:\n",
    "        top_left = max_loc\n",
    "            \n",
    "    bottom_right = (top_left[0] + w, top_left[1] + h)\n",
    "    \n",
    "    print(str(min_val) + \" \" + str(max_val))\n",
    "    \n",
    "    if (max_val < 7000000):\n",
    "        return None\n",
    "    \n",
    "    return (top_left, bottom_right)\n",
    "\n",
    "\n",
    "\"\"\"find a set of corners matching the patterns in the target\"\"\"\n",
    "def find_for_all_patterns(target_img, patterns):\n",
    "    corners = []\n",
    "    for p in patterns:\n",
    "        corners.append(find_box_with_pattern(target_img, p))\n",
    "    return corners\n",
    "\n",
    "def find_for_all_patterns_resize(target_img, patterns):\n",
    "    corners = []\n",
    "    factors = [1.5, 1, 0.5]\n",
    "    for p in patterns:\n",
    "        for f in factors:\n",
    "            resized_pattern = resize_with_factor(p, f)\n",
    "            resized_dim = (resized_pattern.shape[1], resized_pattern.shape[0])\n",
    "            target_dim = (target_img.shape[1], target_img.shape[0])\n",
    "            if (resized_dim[0] < target_dim[0] and resized_dim[1] < target_dim[1]):\n",
    "                corner = find_box_with_pattern(target_img, resized_pattern)\n",
    "                if (corner is not None):\n",
    "                    corners.append(corner)\n",
    "    return corners    \n",
    "\n",
    "def show_labeled_image_with_corners(target_img, corners):\n",
    "    \n",
    "    showed_img = target_img.copy()\n",
    "    \n",
    "    for c in corners:\n",
    "        cv.rectangle(showed_img, c[0], c[1], (0, 0, 255), 2)\n",
    "        \n",
    "    cv.imshow('image', showed_img)\n",
    "    cv.waitKey(0)\n",
    "    cv.destroyAllWindows()     \n"
   ]
  },
  {
   "cell_type": "code",
   "execution_count": 26,
   "metadata": {
    "scrolled": true
   },
   "outputs": [
    {
     "name": "stdout",
     "output_type": "stream",
     "text": [
      "-2887737.75 6862151.5\n",
      "-1798261.125 2920706.5\n",
      "-387246.25 500378.75\n",
      "-4201993.5 6899628.0\n",
      "-1999146.25 3082971.0\n",
      "-425416.8125 574420.3125\n",
      "-4713789.0 10947400.0\n",
      "-2171070.5 4890161.0\n",
      "-645639.75 871988.3125\n",
      "-4720723.0 8480065.0\n",
      "-2471673.5 3787617.0\n",
      "-474046.15625 712887.0\n",
      "-3985498.25 8406889.0\n",
      "-1843208.875 3928892.5\n",
      "-583585.3125 672900.6875\n",
      "3\n"
     ]
    }
   ],
   "source": [
    "corners = find_for_all_patterns_resize(target_img, patterns_imgs)\n",
    "show_labeled_image_with_corners(target_img_colored, corners)\n",
    "print(len(corners))"
   ]
  },
  {
   "cell_type": "code",
   "execution_count": null,
   "metadata": {},
   "outputs": [],
   "source": [
    "-5339130.5 9971164.0\n",
    "-2493280.25 5092399.0\n",
    "-711466.3125 1087420.875\n",
    "-5530162.0 11429691.0\n",
    "-2805763.0 5570730.0\n",
    "-838670.375 1135935.375\n",
    "-10501176.0 15898986.0\n",
    "-5398862.5 9481805.0\n",
    "-1354308.125 2192995.25\n",
    "-7610752.0 15590421.0\n",
    "-3614905.75 6865022.5\n",
    "-915325.375 1502020.75\n",
    "-8160000.0 17077074.0\n",
    "-3606160.0 7953486.5\n",
    "-1071434.25 1513853.375"
   ]
  },
  {
   "cell_type": "code",
   "execution_count": null,
   "metadata": {},
   "outputs": [],
   "source": [
    "\n",
    "img = cv.imread('flies.jpg',0)\n",
    "img2 = img.copy()\n",
    "final_img = img.copy()\n",
    "template = cv.imread('fly.jpg',0)\n",
    "w, h = template.shape[::-1]\n",
    "# All the 6 methods for comparison in a list\n",
    "methods = ['cv.TM_CCOEFF', 'cv.TM_CCOEFF_NORMED', 'cv.TM_CCORR',\n",
    "            'cv.TM_CCORR_NORMED', 'cv.TM_SQDIFF', 'cv.TM_SQDIFF_NORMED']\n",
    "for meth in methods:\n",
    "    img = img2.copy()\n",
    "    method = eval(meth)\n",
    "    # Apply template Matching\n",
    "    res = cv.matchTemplate(img, template, method)\n",
    "    min_val, max_val, min_loc, max_loc = cv.minMaxLoc(res)\n",
    "    # If the method is TM_SQDIFF or TM_SQDIFF_NORMED, take minimum\n",
    "    if method in [cv.TM_SQDIFF, cv.TM_SQDIFF_NORMED]:\n",
    "        top_left = min_loc\n",
    "    else:\n",
    "        top_left = max_loc\n",
    "    bottom_right = (top_left[0] + w, top_left[1] + h)\n",
    "    cv.rectangle(img,top_left, bottom_right, (0, 0, 0), 2)\n",
    "    cv.rectangle(final_img,top_left, bottom_right, (255, 0, 0), 2)\n",
    "    plt.subplot(121),plt.imshow(final_img)\n",
    "    #plt.subplot(121), plt.imshow(res,cmap = 'gray')\n",
    "    plt.title('Matching Result'), plt.xticks([]), plt.yticks([])\n",
    "    plt.subplot(122), plt.imshow(img, cmap = 'gray')\n",
    "    \n",
    "    plt.title('Detected Point'), plt.xticks([]), plt.yticks([])\n",
    "    plt.suptitle(meth)\n",
    "    plt.show()"
   ]
  },
  {
   "cell_type": "code",
   "execution_count": null,
   "metadata": {},
   "outputs": [],
   "source": []
  },
  {
   "cell_type": "code",
   "execution_count": null,
   "metadata": {},
   "outputs": [],
   "source": []
  }
 ],
 "metadata": {
  "kernelspec": {
   "display_name": "Python 3",
   "language": "python",
   "name": "python3"
  },
  "language_info": {
   "codemirror_mode": {
    "name": "ipython",
    "version": 3
   },
   "file_extension": ".py",
   "mimetype": "text/x-python",
   "name": "python",
   "nbconvert_exporter": "python",
   "pygments_lexer": "ipython3",
   "version": "3.8.5"
  }
 },
 "nbformat": 4,
 "nbformat_minor": 4
}
